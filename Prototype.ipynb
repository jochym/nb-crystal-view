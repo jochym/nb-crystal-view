{
 "cells": [
  {
   "cell_type": "code",
   "execution_count": 1,
   "metadata": {
    "collapsed": true,
    "run_control": {
     "frozen": false,
     "read_only": false
    }
   },
   "outputs": [],
   "source": [
    "from pythreejs import *\n",
    "import numpy as np\n",
    "from IPython.display import display\n",
    "from ipywidgets import HTML, Text\n",
    "from traitlets import link, dlink"
   ]
  },
  {
   "cell_type": "code",
   "execution_count": 2,
   "metadata": {
    "collapsed": true
   },
   "outputs": [],
   "source": [
    "import ase\n",
    "import ase.io\n",
    "from itertools import chain\n",
    "import numpy"
   ]
  },
  {
   "cell_type": "code",
   "execution_count": 3,
   "metadata": {
    "collapsed": true
   },
   "outputs": [],
   "source": [
    "a=ase.io.read('PAD_1-512.traj')"
   ]
  },
  {
   "cell_type": "code",
   "execution_count": 4,
   "metadata": {
    "collapsed": false
   },
   "outputs": [
    {
     "data": {
      "text/plain": [
       "Atoms(symbols='Fe13Pt42', pbc=False, cell=[20.0, 20.0, 20.0])"
      ]
     },
     "execution_count": 4,
     "metadata": {},
     "output_type": "execute_result"
    }
   ],
   "source": [
    "a"
   ]
  },
  {
   "cell_type": "code",
   "execution_count": 5,
   "metadata": {
    "collapsed": false
   },
   "outputs": [
    {
     "data": {
      "text/plain": [
       "(array([[ 20.,   0.,   0.],\n",
       "        [  0.,  20.,   0.],\n",
       "        [  0.,   0.,  20.]]), array([ 10.,  10.,  10.]))"
      ]
     },
     "execution_count": 5,
     "metadata": {},
     "output_type": "execute_result"
    }
   ],
   "source": [
    "a.get_cell(), a.get_positions()[0]"
   ]
  },
  {
   "cell_type": "code",
   "execution_count": 6,
   "metadata": {
    "collapsed": false,
    "run_control": {
     "marked": false
    }
   },
   "outputs": [
    {
     "data": {
      "application/vnd.jupyter.widget-view+json": {
       "model_id": "61e5487967e5427197d779096473631b"
      }
     },
     "metadata": {},
     "output_type": "display_data"
    }
   ],
   "source": [
    "cm=a.get_center_of_mass()\n",
    "\n",
    "verts=list(chain.from_iterable([[[0,0,0],list(v)] for v in numpy.diag([1,1,1])]))\n",
    "coordgeom = PlainGeometry(vertices=verts,\n",
    "                          colors = 2*['red'] + 2*['green'] + 2*['blue'])\n",
    "coord = Line(geometry=coordgeom, \n",
    "             material=LineBasicMaterial(linewidth=2, vertexColors='VertexColors'), \n",
    "             type='LinePieces')\n",
    "\n",
    "verts=[]\n",
    "for sp in [[0,0,0],[1,1,0],[1,0,1],[0,1,1]]:\n",
    "    v0=numpy.dot(a.get_cell(),numpy.array(sp))\n",
    "    c=-2*numpy.array(sp)+1\n",
    "    verts+=list(chain.from_iterable([[list(-cm+v0),list(s*v-cm+v0)] for s,v in zip(c,a.get_cell())]))\n",
    "\n",
    "    \n",
    "ucgeom = PlainGeometry(vertices=verts, colors = len(verts)*['black'])\n",
    "uc = Line(geometry=ucgeom, \n",
    "             material=LineBasicMaterial(linewidth=1, vertexColors='VertexColors'), \n",
    "             type='LinePieces')\n",
    "\n",
    "atoms = [ Mesh(geometry=SphereGeometry(radius=1), \n",
    "                                    material=LambertMaterial(color='red'),\n",
    "                                    position=list(p-cm)) for p in a.get_positions()]\n",
    "\n",
    "\n",
    "\n",
    "scene = Scene(children=atoms + [uc, DirectionalLight(color='#ccaabb', position=[0,40,40]),AmbientLight(color='#cccccc')])\n",
    "c = PerspectiveCamera(position=[0, 30, 30])\n",
    "renderer = Renderer(camera=c, scene = scene, controls=[OrbitControls(controlling=c)])\n",
    "display(renderer)"
   ]
  },
  {
   "cell_type": "code",
   "execution_count": 7,
   "metadata": {
    "collapsed": true
   },
   "outputs": [],
   "source": [
    "t=ase.io.read('PAD_1-512.traj',index=':')"
   ]
  },
  {
   "cell_type": "code",
   "execution_count": 9,
   "metadata": {
    "collapsed": false
   },
   "outputs": [
    {
     "ename": "KeyboardInterrupt",
     "evalue": "",
     "output_type": "error",
     "traceback": [
      "\u001b[0;31m---------------------------------------------------------------------------\u001b[0m",
      "\u001b[0;31mKeyboardInterrupt\u001b[0m                         Traceback (most recent call last)",
      "\u001b[0;32m<ipython-input-9-74bafd6716f1>\u001b[0m in \u001b[0;36m<module>\u001b[0;34m()\u001b[0m\n\u001b[1;32m      3\u001b[0m     \u001b[0;32mfor\u001b[0m \u001b[0mao\u001b[0m\u001b[0;34m,\u001b[0m \u001b[0map\u001b[0m \u001b[0;32min\u001b[0m \u001b[0mzip\u001b[0m\u001b[0;34m(\u001b[0m\u001b[0matoms\u001b[0m\u001b[0;34m,\u001b[0m \u001b[0ma1\u001b[0m\u001b[0;34m.\u001b[0m\u001b[0mget_positions\u001b[0m\u001b[0;34m(\u001b[0m\u001b[0;34m)\u001b[0m\u001b[0;34m)\u001b[0m\u001b[0;34m:\u001b[0m\u001b[0;34m\u001b[0m\u001b[0m\n\u001b[1;32m      4\u001b[0m         \u001b[0mao\u001b[0m\u001b[0;34m.\u001b[0m\u001b[0mposition\u001b[0m\u001b[0;34m=\u001b[0m\u001b[0mlist\u001b[0m\u001b[0;34m(\u001b[0m\u001b[0map\u001b[0m\u001b[0;34m-\u001b[0m\u001b[0mcm\u001b[0m\u001b[0;34m)\u001b[0m\u001b[0;34m\u001b[0m\u001b[0m\n\u001b[0;32m----> 5\u001b[0;31m         \u001b[0mtime\u001b[0m\u001b[0;34m.\u001b[0m\u001b[0msleep\u001b[0m\u001b[0;34m(\u001b[0m\u001b[0;36m.05\u001b[0m\u001b[0;34m)\u001b[0m\u001b[0;34m\u001b[0m\u001b[0m\n\u001b[0m",
      "\u001b[0;31mKeyboardInterrupt\u001b[0m: "
     ]
    }
   ],
   "source": [
    "import time\n",
    "for a1 in t:\n",
    "    for ao, ap in zip(atoms, a1.get_positions()):\n",
    "        ao.position=list(ap-cm)\n",
    "        time.sleep(.05)"
   ]
  },
  {
   "cell_type": "code",
   "execution_count": null,
   "metadata": {
    "collapsed": true
   },
   "outputs": [],
   "source": []
  }
 ],
 "metadata": {
  "anaconda-cloud": {},
  "hide_input": false,
  "kernelspec": {
   "display_name": "Python [conda env:jh]",
   "language": "python",
   "name": "conda-env-jh-py"
  },
  "language_info": {
   "codemirror_mode": {
    "name": "ipython",
    "version": 3
   },
   "file_extension": ".py",
   "mimetype": "text/x-python",
   "name": "python",
   "nbconvert_exporter": "python",
   "pygments_lexer": "ipython3",
   "version": "3.5.3"
  },
  "toc": {
   "toc_cell": false,
   "toc_number_sections": true,
   "toc_threshold": 6,
   "toc_window_display": false
  }
 },
 "nbformat": 4,
 "nbformat_minor": 2
}
